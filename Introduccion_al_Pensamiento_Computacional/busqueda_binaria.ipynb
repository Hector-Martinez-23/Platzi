{
 "cells": [
  {
   "cell_type": "code",
   "execution_count": 4,
   "metadata": {},
   "outputs": [
    {
     "name": "stdout",
     "output_type": "stream",
     "text": [
      "Escoge un numero: 1589\n",
      "bajo=0.0, alto=1589, respuesta=794.5\n",
      "bajo=0.0, alto=794.5, respuesta=397.25\n",
      "bajo=0.0, alto=397.25, respuesta=198.625\n",
      "bajo=0.0, alto=198.625, respuesta=99.3125\n",
      "bajo=0.0, alto=99.3125, respuesta=49.65625\n",
      "bajo=0.0, alto=49.65625, respuesta=24.828125\n",
      "bajo=24.828125, alto=49.65625, respuesta=37.2421875\n",
      "bajo=37.2421875, alto=49.65625, respuesta=43.44921875\n",
      "bajo=37.2421875, alto=43.44921875, respuesta=40.345703125\n",
      "bajo=37.2421875, alto=40.345703125, respuesta=38.7939453125\n",
      "bajo=38.7939453125, alto=40.345703125, respuesta=39.56982421875\n",
      "bajo=39.56982421875, alto=40.345703125, respuesta=39.957763671875\n",
      "bajo=39.56982421875, alto=39.957763671875, respuesta=39.7637939453125\n",
      "bajo=39.7637939453125, alto=39.957763671875, respuesta=39.86077880859375\n",
      "bajo=39.86077880859375, alto=39.957763671875, respuesta=39.909271240234375\n",
      "bajo=39.86077880859375, alto=39.909271240234375, respuesta=39.88502502441406\n",
      "bajo=39.86077880859375, alto=39.88502502441406, respuesta=39.872901916503906\n",
      "bajo=39.86077880859375, alto=39.872901916503906, respuesta=39.86684036254883\n",
      "bajo=39.86077880859375, alto=39.86684036254883, respuesta=39.86380958557129\n",
      "bajo=39.86077880859375, alto=39.86380958557129, respuesta=39.86229419708252\n",
      "bajo=39.86077880859375, alto=39.86229419708252, respuesta=39.861536502838135\n",
      "bajo=39.861536502838135, alto=39.86229419708252, respuesta=39.86191534996033\n",
      "bajo=39.86191534996033, alto=39.86229419708252, respuesta=39.86210477352142\n",
      "bajo=39.86210477352142, alto=39.86229419708252, respuesta=39.86219948530197\n",
      "bajo=39.86219948530197, alto=39.86229419708252, respuesta=39.862246841192245\n",
      "La raiz cuadrada del 1589 es 39.86227051913738\n"
     ]
    }
   ],
   "source": [
    "objetivo = int(input('Escoge un numero: '))\n",
    "epsilon = 0.001\n",
    "bajo = 0.0\n",
    "alto = max(1.0, objetivo)\n",
    "respuesta = (alto + bajo)/2\n",
    "\n",
    "while abs(respuesta**2 - objetivo) >= epsilon:\n",
    "    print(f'bajo={bajo}, alto={alto}, respuesta={respuesta}')\n",
    "    if respuesta**2 < objetivo:\n",
    "        bajo = respuesta\n",
    "    else:\n",
    "        alto = respuesta\n",
    "    \n",
    "    respuesta = (alto + bajo) / 2\n",
    "    \n",
    "print(f'La raiz cuadrada del {objetivo} es {respuesta}')"
   ]
  },
  {
   "cell_type": "markdown",
   "metadata": {},
   "source": [
    "# Especificaciones del código"
   ]
  },
  {
   "cell_type": "code",
   "execution_count": 5,
   "metadata": {},
   "outputs": [],
   "source": [
    "def a(cualquier_parametro):\n",
    "    \"\"\"Descripcion de lo que hace nuestra funcion\n",
    "       cualquier_parametro int cualquier entero\n",
    "       returns cualquier_parametro + 5\n",
    "    \"\"\"\n",
    "    return cualquier_parametro + 5"
   ]
  },
  {
   "cell_type": "code",
   "execution_count": 6,
   "metadata": {},
   "outputs": [
    {
     "name": "stdout",
     "output_type": "stream",
     "text": [
      "Help on function a in module __main__:\n",
      "\n",
      "a(cualquier_parametro)\n",
      "    Descripcion de lo que hace nuestra funcion\n",
      "    cualquier_parametro int cualquier entero\n",
      "    returns cualquier_parametro + 5\n",
      "\n"
     ]
    }
   ],
   "source": [
    "help(a)"
   ]
  }
 ],
 "metadata": {
  "kernelspec": {
   "display_name": "Python 3",
   "language": "python",
   "name": "python3"
  },
  "language_info": {
   "codemirror_mode": {
    "name": "ipython",
    "version": 3
   },
   "file_extension": ".py",
   "mimetype": "text/x-python",
   "name": "python",
   "nbconvert_exporter": "python",
   "pygments_lexer": "ipython3",
   "version": "3.7.6"
  }
 },
 "nbformat": 4,
 "nbformat_minor": 4
}
